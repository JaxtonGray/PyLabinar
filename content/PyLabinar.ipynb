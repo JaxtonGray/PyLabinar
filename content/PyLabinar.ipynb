{
 "cells": [
  {
   "cell_type": "markdown",
   "metadata": {},
   "source": [
    "Introduction to Python and Jupyter Notebooks\n",
    "============================================\n",
    "This will be a breakdown of both the very basics of python and the Jupyter Notebook environment. You will learn python syntax, data types, functions, and more. You will also learn how to use Jupyter Notebooks. There will be included some explations of web apis and data scraping.\\\n",
    "Work through the notebook in order, and complete the exercises as you go.\\\n",
    "Note that you can and should read the comments (lines starting with #) in the code cells, as they provide explanations and hints."
   ]
  },
  {
   "cell_type": "markdown",
   "metadata": {},
   "source": [
    "Run the cell below to get started so you have the necessary libraries installed."
   ]
  },
  {
   "cell_type": "code",
   "execution_count": null,
   "metadata": {},
   "outputs": [],
   "source": [
    "# This cell must be run before any other code cells in the notebook\n",
    "import piplite\n",
    "\n",
    "await piplite.install(\"requests\")\n",
    "await piplite.install(\"numpy\")\n",
    "await piplite.install(\"pandas\")\n",
    "await piplite.install(\"matplotlib\")\n",
    "await piplite.install(\"seaborn\")"
   ]
  },
  {
   "cell_type": "markdown",
   "metadata": {},
   "source": [
    "# Intergers, Floats, Strings, and Booleans\n",
    "Nearly every programming language has a concept of integers, floats, strings, and booleans. They are the fundamental.\n",
    "- Integers are whole numbers, positive or negative.\n",
    "- Floats are numbers with a decimal point.\n",
    "- Strings are sequences of characters. Enclosed within single or double quotes (either or as long as it is the same on either end).\n",
    "- Booleans are True or False."
   ]
  },
  {
   "cell_type": "code",
   "execution_count": null,
   "metadata": {},
   "outputs": [],
   "source": [
    "# Here is an example of a integer\n",
    "x = 5\n",
    "\n",
    "# We can perform operations on integers\n",
    "y = x + 2\n",
    "print(y)"
   ]
  },
  {
   "cell_type": "code",
   "execution_count": null,
   "metadata": {},
   "outputs": [],
   "source": [
    "# Floats are numbers with decimal points and are also valid for operations\n",
    "x = 5.123\n",
    "y = x / 2\n",
    "print(y)"
   ]
  },
  {
   "cell_type": "code",
   "execution_count": null,
   "metadata": {},
   "outputs": [],
   "source": [
    "# Strings are sequences of characters enclosed in quotes\n",
    "x = \"Hello, World!\"\n",
    "y = 'Hello, again?'\n",
    "\n",
    "# We can do a combination of single and double quotes to include quotes in a string\n",
    "z = \"He said, 'Hello!'\"\n",
    "print(z)"
   ]
  },
  {
   "cell_type": "code",
   "execution_count": null,
   "metadata": {},
   "outputs": [],
   "source": [
    "# You can also concatenate strings\n",
    "x = \"Hello\"\n",
    "y = \"World\"\n",
    "print(x + \" \" + y) # NOTE: The added string with a single space in between"
   ]
  },
  {
   "cell_type": "code",
   "execution_count": null,
   "metadata": {},
   "outputs": [],
   "source": [
    "# Booleans are True or False values that can be used in logical operations\n",
    "x = True\n",
    "y = False\n",
    "\n",
    "z = x or y # Try changing the 'or' to 'and' and see what happens\n",
    "print(z)"
   ]
  },
  {
   "cell_type": "code",
   "execution_count": null,
   "metadata": {},
   "outputs": [],
   "source": [
    "# Comparison operators can be used to compare values and output a boolean\n",
    "print(5 > 3)"
   ]
  },
  {
   "cell_type": "code",
   "execution_count": null,
   "metadata": {},
   "outputs": [],
   "source": [
    "# We can combine comparison operators with logical operators to create complex conditions\n",
    "print(5 > 3 and 5 > 10)"
   ]
  },
  {
   "cell_type": "markdown",
   "metadata": {},
   "source": [
    "## Exercise 1\n",
    "In the cell below, create a variable called try and guess the outputs of the following expressions. Add the outputs as comments in the cell. Finally run the cell to see if you were correct."
   ]
  },
  {
   "cell_type": "code",
   "execution_count": null,
   "metadata": {},
   "outputs": [],
   "source": [
    "print(5 > 3 or 5 > 10) # Answer: ?\n",
    "print(6 <= 7) # Answer: ?\n",
    "print(150 == 6) # Answer: ?\n",
    "print(6 != 6) # Answer: ?"
   ]
  },
  {
   "cell_type": "markdown",
   "metadata": {},
   "source": [
    "# Variables\n",
    "Variables allow you to store bits of data and reference them later. They set out a box of space for you to store data. There are *techincally* no rules as to what you can name a variable, but there are some conventions.\n",
    "- Variables should be named descriptively. Best practice is not use just a random letter.\n",
    "- Avoid using python keywords (like 'print', 'for', 'if', etc.) as variable names. This will cause errors as you overwrite the original functionality.\n",
    "- Do not use spaces in variable names. Use underscores instead.\n",
    "- Variables are case-sensitive. 'my_variable' is different from 'My_Variable'.\n",
    "- Don't start a variable name with a number, special character, or capital letter.\n",
    "\n",
    "There are a couple different \"cases\" for naming variables:\n",
    "- **snake_case**: all lowercase, words separated by underscores. (e.g. my_variable)\n",
    "- **camelCase**: first word is lowercase, subsequent words are capitalized. (e.g. myVariable)\n",
    "<br/>\n",
    "\n",
    "Next we will cover scope of variables. Variables can be either **local** or **global**.\n",
    "- **Local variables** are defined within a function and can only be accessed within that function.\n",
    "- **Global variables** are defined outside of a function and can be accessed anywhere in the code."
   ]
  },
  {
   "cell_type": "code",
   "execution_count": null,
   "metadata": {},
   "outputs": [],
   "source": [
    "# Here I am going to define a global variable which is in the global scope (outside of any function and can be accessed from anywhere in the code)\n",
    "MY_GLOBAL = 5 # Often they are written in all caps to indicate that they are global\n",
    "# To demonstrate the difference between global and local variables I am going to define a global variable called x\n",
    "x = 5\n",
    "\n",
    "# I am going to define a function, don't worry about the syntax for now I will explain it later on\n",
    "# Just pay attention to the variable names and the outputs\n",
    "def myFunc():\n",
    "    x = 10 # This is a local variable, it is only accessible within the function \n",
    "    print(x) \n",
    "\n",
    "# When you think you know what the output will be, uncomment the line (remove the #) and run the code\n",
    "#myFunc() # This will call the function and print the value of x"
   ]
  },
  {
   "cell_type": "markdown",
   "metadata": {},
   "source": [
    "# Lists, Tuples, Sets, and Dictionaries\n",
    "These are the four main ways to store collections of data in Python.\n",
    "- **Lists** are ordered, mutable (changeable), and allow duplicate elements. They are defined by square brackets [ ]. (e.g. my_list = [1, 2, 3])\n",
    "- **Tuples** are ordered, immutable (unchangeable), and allow duplicate elements. They are defined by parentheses ( ). (e.g. my_tuple = (1, 2, 3))\n",
    "- **Sets** are unordered, mutable, and do not allow duplicate elements. They are defined by curly braces { }. (e.g. my_set = {1, 2, 3})\n",
    "- **Dictionaries** are unordered, mutable (changeable), do not allow duplicate elements, and are indexed by keys. They are defined by curly braces {} and key-value pairs. (e.g. my_dict = {'name': 'John', 'age': 25})"
   ]
  },
  {
   "cell_type": "code",
   "execution_count": null,
   "metadata": {},
   "outputs": [],
   "source": [
    "# Lists are a collection of values that can be accessed by index (starting from 0)\n",
    "x = [1, 2, 3, 4, 5]\n",
    "print(x[0]) # This will output the first element in the list\n",
    "\n",
    "# The values within a list can be of any type\n",
    "y = [1, \"Hello\", True, 5.123]\n",
    "print(y)"
   ]
  },
  {
   "cell_type": "code",
   "execution_count": null,
   "metadata": {},
   "outputs": [],
   "source": [
    "# The list can be modified by changing the values\n",
    "x = [1, 2, 3, 4, 5]\n",
    "print(x)\n",
    "# Now we will change the value at index 2 (third element) to 10\n",
    "x[2] = 10\n",
    "print(x)"
   ]
  },
  {
   "cell_type": "code",
   "execution_count": null,
   "metadata": {},
   "outputs": [],
   "source": [
    "# We can also use negative indices to access elements from the end of the list\n",
    "x = [1, 2, 3, 4, 5]\n",
    "print(x[-1]) # This will output the last element in the list"
   ]
  },
  {
   "cell_type": "code",
   "execution_count": null,
   "metadata": {},
   "outputs": [],
   "source": [
    "# We can slice lists to get a subset of the values using the colon operator\n",
    "x = [2, 7, 1, 8]\n",
    "print(x[1:3]) # This will output the second and third elements (index 1 and 2) we had to use 3 as the end index because the end index is exclusive"
   ]
  },
  {
   "cell_type": "code",
   "execution_count": null,
   "metadata": {},
   "outputs": [],
   "source": [
    "# We can use the colon operator with only one index to get all the elements from that index to the end\n",
    "x = [7, 3, 9, 1, 5, 6, 8, 7] \n",
    "print(x[2:]) # Printing all elements from index 2 (the third element) to the end"
   ]
  },
  {
   "cell_type": "code",
   "execution_count": null,
   "metadata": {},
   "outputs": [],
   "source": [
    "# You can access the length of a list using the len function\n",
    "x = [100, 200, 300]\n",
    "y = len(x)\n",
    "print(y)"
   ]
  },
  {
   "cell_type": "code",
   "execution_count": null,
   "metadata": {},
   "outputs": [],
   "source": [
    "# If we want to add a value to the end of the list we can use something called the append method\n",
    "# I will explain methods are and how they differ from functions later on\n",
    "x = [4.5, 6.7, 8.9]\n",
    "print(x)\n",
    "\n",
    "# We will now append the value of 10.15 to the end of the list\n",
    "x.append(10.15)\n",
    "print(x)"
   ]
  },
  {
   "cell_type": "code",
   "execution_count": null,
   "metadata": {},
   "outputs": [],
   "source": [
    "# A tuple is similar to a list but it is immutable, meaning that it cannot be changed once assigned\n",
    "x = (1, 2, 3)\n",
    "\n",
    "# This will throw an error because we are trying to change the value of a tuple\n",
    "# Uncomment the line to see the error\n",
    "#x[2] = 10\n",
    "print(x)"
   ]
  },
  {
   "cell_type": "code",
   "execution_count": null,
   "metadata": {},
   "outputs": [],
   "source": [
    "# Sets are similar to lists but they do not allow duplicate values and are unordered\n",
    "x = {35, 15, 29, 35, 15}\n",
    "\n",
    "# Think about what the output will be\n",
    "print(x)"
   ]
  },
  {
   "cell_type": "code",
   "execution_count": null,
   "metadata": {},
   "outputs": [],
   "source": [
    "# Dictionaries are a collection of key-value pairs and are assigned using curly braces as well\n",
    "x = {\"name\": \"John\", \"age\": 25, \"city\": \"London\"}\n",
    "\n",
    "# We can access the values using the keys\n",
    "print(x[\"name\"])\n",
    "\n",
    "# We can also change the values\n",
    "# Uncomment the line to see the change\n",
    "#x[\"age\"] = 30\n",
    "print(x)"
   ]
  },
  {
   "cell_type": "code",
   "execution_count": null,
   "metadata": {},
   "outputs": [],
   "source": [
    "# We can add new key-value pairs to the dictionary\n",
    "x = {\"name\": \"John\", \"age\": 25, \"city\": \"London\"}\n",
    "\n",
    "x[\"country\"] = \"UK\"\n",
    "print(x)"
   ]
  },
  {
   "cell_type": "code",
   "execution_count": null,
   "metadata": {},
   "outputs": [],
   "source": [
    "# Dictionary keys can be of any immutable type (strings, numbers, tuples) but the values can be of any type\n",
    "x = {1: \"Hello\", (1, 2): 5.123, \"another dictionary\": {\"name\": \"John\", \"age\": 25}}\n",
    "print(x[(1, 2)])\n",
    "print(x[\"another dictionary\"][\"name\"])"
   ]
  },
  {
   "cell_type": "code",
   "execution_count": null,
   "metadata": {},
   "outputs": [],
   "source": [
    "# Finally we can also change between the different types\n",
    "# Here I am converting a list to a set\n",
    "x = [1, 2, 3, 3, 4]\n",
    "y = set(x)\n",
    "\n",
    "# Think about what the output will be and then uncomment the line to see if you are correct\n",
    "#print(y) "
   ]
  },
  {
   "cell_type": "code",
   "execution_count": null,
   "metadata": {},
   "outputs": [],
   "source": [
    "# We can also convert a list to a tuple and vice versa\n",
    "x = [1, 2, 3]\n",
    "y = tuple(x)\n",
    "\n",
    "# Think about what the output will be and then uncomment the line to see if you are correct\n",
    "#y[2] = 10\n",
    "print(y)"
   ]
  },
  {
   "cell_type": "markdown",
   "metadata": {},
   "source": [
    "## Exercise 2\n",
    "In the cell below create a list of numbers and then convert it to a set. Print the set to see the difference between the two."
   ]
  },
  {
   "cell_type": "code",
   "execution_count": null,
   "metadata": {},
   "outputs": [],
   "source": [
    "# Define your list here\n",
    "\n",
    "# Convert your list to a set\n"
   ]
  },
  {
   "cell_type": "markdown",
   "metadata": {},
   "source": [
    "# Syntax\n",
    "Syntax is essentially the grammar of coding. The rules in which you have to follow for it to work and make sense. Python is a high-level programming language, which means it is easy to read and write. It is known for its readability and clean syntax. Here are some basic syntax rules:\n",
    "- Python is case-sensitive.\n",
    "- Whitespace (indentation) is important. The standard is to use 4 spaces for indentation. But most IDEs (i.e. VScode, JetBrain, Rstudio) will automatically convert tabs to spaces.\n",
    "- Comments are made with a hash (#) symbol. Anything after the hash will be ignored by the interpreter."
   ]
  },
  {
   "cell_type": "code",
   "execution_count": null,
   "metadata": {},
   "outputs": [],
   "source": [
    "# Don't worry to understand what is happening in this code block, just pay attention to the syntax\n",
    "for i in range(0, 11, 2):\n",
    "    if i % 3 == 0: # The % operator is the modulo operator which gives the remainder of a division\n",
    "        print(i) # Notice the indentation\n",
    "    else:\n",
    "        print(\"Not divisible by 3\")"
   ]
  },
  {
   "cell_type": "markdown",
   "metadata": {},
   "source": [
    "# If Else Statements\n",
    "If we want to have a section of code run only if a certain condition is met, we can use an if statement. We can also add else and elif (else if) statements to run code if the condition is not met."
   ]
  },
  {
   "cell_type": "code",
   "execution_count": null,
   "metadata": {},
   "outputs": [],
   "source": [
    "# An if statement is used to execute code based on a condition\n",
    "x = 5\n",
    "if x > 3:\n",
    "    print(f\"{x} is greater than 3\")"
   ]
  },
  {
   "cell_type": "code",
   "execution_count": null,
   "metadata": {},
   "outputs": [],
   "source": [
    "# The if statement only captures the first condition that is true if we want to get everything that is false as well we follow it with an else statement\n",
    "x = 5\n",
    "\n",
    "if x > 10:\n",
    "    print(f\"{x} is greater than 10\") # The f in front of the string allows us to use curly braces to insert variables into the string\n",
    "else:\n",
    "    print(f\"{x} is not greater than 10\")"
   ]
  },
  {
   "cell_type": "code",
   "execution_count": null,
   "metadata": {},
   "outputs": [],
   "source": [
    "# We can also have multiple conditions using the elif statement (short for else if)\n",
    "x = 5\n",
    "if x > 10:\n",
    "    print(f\"{x} is greater than 10\")\n",
    "elif x > 3:\n",
    "    print(f\"{x} is greater than 3 but not greater than 10\")\n",
    "else:\n",
    "    print(f\"{x} is not greater than 3\")"
   ]
  },
  {
   "cell_type": "markdown",
   "metadata": {},
   "source": [
    "# Loops\n",
    "If we want to run a section of code multiple times, we can use loops. There are two loops in Python: for and while loops.\n",
    "- **For loops** are used to iterate over a sequence (list, tuple, string, etc.) and run a block of code a specific number of times.\n",
    "- **While loops** are used to run a block of code as long as a condition is true."
   ]
  },
  {
   "cell_type": "code",
   "execution_count": null,
   "metadata": {},
   "outputs": [],
   "source": [
    "# For loops iterate over a sequence of values, this can be a list, tuple, set, dictionary, or a range\n",
    "# For example, we can iterate over a list\n",
    "x = [\"Hello\", \"World\", \"!\"]\n",
    "for i in x:\n",
    "    print(i)"
   ]
  },
  {
   "cell_type": "code",
   "execution_count": null,
   "metadata": {},
   "outputs": [],
   "source": [
    "# We can also iterate over a range of values using the range function\n",
    "for i in range(5):\n",
    "    print(i)"
   ]
  },
  {
   "cell_type": "code",
   "execution_count": null,
   "metadata": {},
   "outputs": [],
   "source": [
    "# We can also iterate over a dictionary by iterating over either the keys, values, or key-value pairs.\n",
    "# Here I am iterating over the keys using the .keys() method\n",
    "x = {\"name\": \"John\", \"age\": 25, \"city\": \"London\"}\n",
    "for i in x.keys():\n",
    "    print(i)"
   ]
  },
  {
   "cell_type": "code",
   "execution_count": null,
   "metadata": {},
   "outputs": [],
   "source": [
    "# We can use the .values() method to get the values\n",
    "x = {\"name\": \"John\", \"age\": 25, \"city\": \"London\"}\n",
    "for i in x.values():\n",
    "    print(i)"
   ]
  },
  {
   "cell_type": "code",
   "execution_count": null,
   "metadata": {},
   "outputs": [],
   "source": [
    "# And the .items() method to get the key-value pairs\n",
    "for key, value in x.items():\n",
    "    print(f\"{key}: {value}\")"
   ]
  },
  {
   "cell_type": "code",
   "execution_count": null,
   "metadata": {},
   "outputs": [],
   "source": [
    "# A while loop will continue to execute as long as the condition is true\n",
    "# NOTE: That if there is no way for the condition to become false the loop will run indefinitely\n",
    "x = 0\n",
    "\n",
    "while x < 5:\n",
    "    print(x)\n",
    "    x += 1 # This is the same as x = x + 1"
   ]
  },
  {
   "cell_type": "markdown",
   "metadata": {},
   "source": [
    "## Exercise 3\n",
    "In the cell below I have a list of numbers. I want you to check each element on 3 conditions:\n",
    "1. If the number is less than 5, print \"low\".\n",
    "2. If the number is greater than or equal to 5 and less than 10, print \"medium\".\n",
    "3. If the number is greater than or equal to 10, print \"high\".\n",
    "<br/>\n",
    "HINT: Both for loops and if else statements will be needed."
   ]
  },
  {
   "cell_type": "markdown",
   "metadata": {},
   "source": [
    "# Functions\n",
    "Functions are chunks of code that you can reuse. We have already seen some functions like print() and len(). You can also create your own functions. Functions are defined using the def keyword followed by the function name and parentheses. \n",
    "<br/>\n",
    "Some functions take arguments (inputs) and return a value. There are types of arguments:\n",
    "- **Positional arguments** are arguments that need to be in the correct position.\n",
    "- **Keyword arguments** are arguments that are preceded by a keyword and an equals sign."
   ]
  },
  {
   "cell_type": "code",
   "execution_count": null,
   "metadata": {},
   "outputs": [],
   "source": [
    "# Here we are going to define a function that takes two POSITIONAL arguments and return their sum\n",
    "def add(x, y):\n",
    "    # The return statement is used to return a value from a function and is required\n",
    "    # If you do not include a return statement the function will return None (a special value in Python)\n",
    "    return x + y \n",
    "\n",
    "# We can call the function and store the result in a variable\n",
    "z = add(5, 10)\n",
    "print(z)"
   ]
  },
  {
   "cell_type": "code",
   "execution_count": null,
   "metadata": {},
   "outputs": [],
   "source": [
    "# Now we will define a function that takes two KEYWORD arguments and returns a string that\n",
    "# concatenates the two arguments\n",
    "def combineStrings(string1, string2):\n",
    "    return string1 + \" \" + string2\n",
    "\n",
    "# We can call the function and pass the arguments in any order\n",
    "z = combineStrings(string2=\"World\", string1=\"Hello\")\n",
    "print(z)"
   ]
  },
  {
   "cell_type": "code",
   "execution_count": null,
   "metadata": {},
   "outputs": [],
   "source": [
    "# We can also define default values for arguments in a function\n",
    "def multiply(x, y=2):\n",
    "    return x * y\n",
    "\n",
    "# If we do not pass a value for y it will default to 2\n",
    "z = multiply(5)\n",
    "print(z)"
   ]
  },
  {
   "cell_type": "markdown",
   "metadata": {},
   "source": [
    "## Exercise 4\n",
    "In the cell below I want you to create a function that takes in a list of numbers and returns the sum of all the numbers. Then call the function with a list of numbers to see if it works.\n",
    "The list is predifined for you."
   ]
  },
  {
   "cell_type": "code",
   "execution_count": null,
   "metadata": {},
   "outputs": [],
   "source": [
    "sumThis = [66.5, 23.4, 12.7, 45.6, 78.9] # Sum this list\n",
    "\n",
    "# Define a function that takes a list of numbers and returns the sum of the numbers here!"
   ]
  },
  {
   "cell_type": "markdown",
   "metadata": {},
   "source": [
    "# Objects and Classes\n",
    "Python is an object-oriented programming language. Is is based on the concept of \"objects\". An object is a collection of attributes (variables) and methods (functions) that act on the data. A class is a blueprint for an object. It defines the data and methods that the object will have. You can create multiple objects from the same class.\n",
    "<br/>\n",
    "<br/>\n",
    "Yes I am aware that this does not make a bunch of sense right now. It's essentially a way of capturing bits of data and funtions in \"objects\" that are similar to each other."
   ]
  },
  {
   "cell_type": "code",
   "execution_count": null,
   "metadata": {},
   "outputs": [],
   "source": [
    "# We have already seen an example of a method when we used the append method on a list\n",
    "# A method is a function that is associated with an object and is called using the dot operator\n",
    "# Here I will use the .upper() method on a string to convert it to uppercase\n",
    "x = \"hello\"\n",
    "y = x.upper()\n",
    "print(y)"
   ]
  },
  {
   "cell_type": "code",
   "execution_count": null,
   "metadata": {},
   "outputs": [],
   "source": [
    "# There are other types of methods that can be used on strings such as .lower(), .capitalize(), .title(), .strip(), .replace(), .split()\n",
    "# I will demonstrate some of them here\n",
    "x = \" hello, world! \" # Notice the spaces at the beginning and end of the string\n",
    "y = x.strip() # This will remove the spaces from the beginning and end of the string\n",
    "print(y)\n",
    "\n",
    "splitString = \"Hello, World!\".split(\",\") # This will split the string at the comma and return a list\n",
    "print(splitString)"
   ]
  },
  {
   "cell_type": "code",
   "execution_count": null,
   "metadata": {},
   "outputs": [],
   "source": [
    "# We can create our own object types using class definitions\n",
    "# Here I am going to define a class called Employee\n",
    "class Employee:\n",
    "    # The __init__ method is a special method that is called when an object of the class is created\n",
    "    # It is used to initialize the object with the values passed to it\n",
    "    def __init__(self, name, age, salary):\n",
    "        self.name = name\n",
    "        self.age = age\n",
    "        self.salary = salary\n",
    "    \n",
    "    # We can define other methods in the class that can be called on the object\n",
    "    # Notice that the methods take self as the first argument, this is a reference to the object itself\n",
    "    # We can use self to access the attributes of the object\n",
    "    def giveRaise(self, amount):\n",
    "        self.salary += amount\n",
    "\n",
    "# Here we initialize an object of the Employee class\n",
    "JohnSmith = Employee(\"John Smith\", 25, 50000)\n",
    "\n",
    "# We can access the attributes of the object using the dot operator\n",
    "print(JohnSmith.salary)\n",
    "\n",
    "# We can also call the methods on the object\n",
    "JohnSmith.giveRaise(5000)\n",
    "print(JohnSmith.salary)"
   ]
  },
  {
   "cell_type": "markdown",
   "metadata": {},
   "source": [
    "## Exercise 5\n",
    "Create in the cell below an object called \"Dog\". The object should have the following attributes:\n",
    "- name\n",
    "- age\n",
    "<br/>\n",
    "Then there should be a method that makes the dog bark. Finally create an object from the class and call the bark method."
   ]
  },
  {
   "cell_type": "code",
   "execution_count": null,
   "metadata": {},
   "outputs": [],
   "source": [
    "# Define your Dog class here\n",
    "# HINT: don't forget the __init__ method"
   ]
  },
  {
   "cell_type": "markdown",
   "metadata": {},
   "source": [
    "# Read and Write Files\n",
    "Python has built-in functions for reading and writing files. Python now has something called a with statement that makes it easier to open files. The with statement automatically closes the file when you are done with it. This is the preferred way to open files so you don't forget to close them."
   ]
  },
  {
   "cell_type": "code",
   "execution_count": null,
   "metadata": {},
   "outputs": [],
   "source": [
    "# Here we create a file and write to it\n",
    "with open(\"example.txt\", \"w\") as file:\n",
    "    file.write(\"Hello, World!\")\n",
    "    file.write(\"\\n\") # This will add a new line\n",
    "    file.write(\"Hello, again!\")\n",
    "\n",
    "# Here we can read the contents of the file\n",
    "with open(\"example.txt\", \"r\") as file:\n",
    "    # The read method reads the entire file and returns it as a string\n",
    "    content = file.read()\n",
    "    print(content)\n",
    "\n",
    "# We can also read the file line by line\n",
    "with open(\"example.txt\", \"r\") as file:\n",
    "    # The readlines method reads the file line by line and returns a list of lines\n",
    "    lines = file.readlines()\n",
    "    print(lines)"
   ]
  },
  {
   "cell_type": "markdown",
   "metadata": {},
   "source": [
    "# Libraries and Modules\n",
    "Python has a large standard library, but there are also many third-party libraries that you can use. Libraries are collections of functions, classes, and constants. You can import a library using the import keyword. You can also import specific functions or classes from a library. *Most* libraries are not built into Python, so you will need to install them using pip (or conda if you are using Anaconda). \n",
    "<br/>\n",
    "You can install a library using the command prompt or terminal. \n",
    "```bash\n",
    "pip install library_name\n",
    "```\n",
    "<br/>\n",
    "You then import thhem into your code using the import statement.\n",
    "\n",
    "```python\n",
    "import library_name\n",
    "```\n",
    "However you can also import specific functions or classes from a library.\n",
    "```python\n",
    "from library_name import function_name\n",
    "```\n",
    "Finally, you can also give a library an alias when you import it.\n",
    "```python\n",
    "import library_name as ln\n",
    "```\n",
    "This is useful when you have a long library name and you don't want to type it out every time, best practice is to use the alias that is commonly used by the community. Or just the funtion you are using."
   ]
  },
  {
   "cell_type": "markdown",
   "metadata": {},
   "source": [
    "## Built-in Libraries\n",
    "Python has many built-in libraries that you can use. Some of the most common ones are:\n",
    "- **math**: provides mathematical functions.\n",
    "- **random**: provides functions for generating random numbers.\n",
    "- **datetime**: provides classes for working with dates and times.\n",
    "- **os**: provides functions for interacting with the operating system.\n",
    "- **re**: provides functions for working with regular expressions.\n",
    "- **json**: provides functions for working with JSON data.\n",
    "- And many more!"
   ]
  },
  {
   "cell_type": "code",
   "execution_count": null,
   "metadata": {},
   "outputs": [],
   "source": [
    "# Here I will import the math module which provides mathematical functions and constants (it is part of the standard library)\n",
    "import math\n",
    "\n",
    "# We can use the functions in the math module by using the dot operator\n",
    "x = math.sqrt(25)\n",
    "print(x)\n",
    "\n",
    "# Or use the constants\n",
    "print(math.pi)"
   ]
  },
  {
   "cell_type": "code",
   "execution_count": null,
   "metadata": {},
   "outputs": [],
   "source": [
    "# We can also import specific functions or constants from a module\n",
    "from random import randint\n",
    "\n",
    "# This will generate a random integer between 0 and 10\n",
    "x = randint(0, 10)\n",
    "print(x)"
   ]
  },
  {
   "cell_type": "code",
   "execution_count": null,
   "metadata": {},
   "outputs": [],
   "source": [
    "# Datetime is another module in the standard library that provides functions for working with dates and times and is very very useful\n",
    "import datetime as dt # This imports the datetime class from the datetime module\n",
    "\n",
    "# We can create a datetime object using the datetime class\n",
    "x = dt.datetime(2020, 5, 17, 12, 30, 0) # This will create a datetime object for the 17th of May 2020 at 12:30 PM\n",
    "\n",
    "# We can also use the datetime module to state the structure of the date and time\n",
    "print(x.strftime(\"%A, %d %B %Y %I:%M %p\")) # This will output the date and time in a human-readable format\n",
    "\n",
    "# Those letters in the strftime method are called format codes and are used to format the date and time and there is a list of them that can be found in the Python documentation if you are interested\n",
    "# Just search python datetime documentation in your search engine\n",
    "\n",
    "# We can also read in strings and convert them to datetime objects using those format codes\n",
    "y = \"2020-05-17 12:30:00\"\n",
    "z = dt.datetime.strptime(y, \"%Y-%m-%d %H:%M:%S\") # This will convert the string to a datetime object\n",
    "print(z.strftime(\"%B %d, %Y\"))\n",
    "\n",
    "# There is also a timedelta class in the datetime module that can be used to represent a duration of time and add or subtract it from a datetime object\n",
    "# Here I will create a timedelta object representing 5 days\n",
    "delta = dt.timedelta(days=5)\n",
    "newDate = x + delta # This will add 5 days to the datetime object x   \n",
    "print(newDate.strftime(\"%B %d, %Y\"))"
   ]
  },
  {
   "cell_type": "code",
   "execution_count": null,
   "metadata": {},
   "outputs": [],
   "source": [
    "# Finally I will demonstrate the os module which provides functions for interacting with the operating system\n",
    "import os\n",
    "\n",
    "# We can use the os module to get information about the current working directory\n",
    "print(os.getcwd())\n",
    "\n",
    "# We can also use the os module to list the files in a directory\n",
    "print(os.listdir(os.getcwd()))\n",
    "\n",
    "# We can delete the example.txt file we created earlier IF it exists\n",
    "if os.path.exists(\"example.txt\"):\n",
    "    os.remove(\"example.txt\")"
   ]
  },
  {
   "cell_type": "markdown",
   "metadata": {},
   "source": [
    "## Numpy\n",
    "Numpy is a popular library for numerical computing. It provides support for large, multi-dimensional arrays and matrices, along with a collection of mathematical functions to operate on these arrays. Numpy is a powerful library that is used in many scientific computing applications. I can only scratch the surface of what Numpy can do in this notebook. But I will show you some of the basics."
   ]
  },
  {
   "cell_type": "code",
   "execution_count": null,
   "metadata": {},
   "outputs": [],
   "source": [
    "# Here we will load the NumPy library\n",
    "import numpy as np\n",
    "\n",
    "# We can create a NumPy array from a list\n",
    "x = np.array([1, 2, 3, 4, 5])\n",
    "\n",
    "# That makes a one-dimensional array, we can also create multi-dimensional arrays\n",
    "y = np.array([[1, 2, 3], \n",
    "              [4, 5, 6]])\n",
    "print(y)"
   ]
  },
  {
   "cell_type": "code",
   "execution_count": null,
   "metadata": {},
   "outputs": [],
   "source": [
    "# We can also create arrays of zeros, ones, or random numbers\n",
    "x = np.zeros(5)\n",
    "print(x)\n",
    "\n",
    "# We can also specify the shape of the array using a tuple (rows, columns)\n",
    "y = np.ones((2, 3))\n",
    "print(y)"
   ]
  },
  {
   "cell_type": "code",
   "execution_count": null,
   "metadata": {},
   "outputs": [],
   "source": [
    "# We can do element-wise operations on arrays, or matrix operations if the arrays are multi-dimensional\n",
    "x = np.random.randint(1, 10, (3, 4))\n",
    "y = np.random.randint(1, 10, (3, 4)) # This will create a random array of 3x4 elements between 1 and 10\n",
    "\n",
    "z = x * 5 # This will multiply each element in the array by 5\n",
    "\n",
    "# We can also do matrix multiplication using the dot method\n",
    "z = np.dot(x, y.T) # This will multiply x by the transpose of y\n",
    "print(z)"
   ]
  },
  {
   "cell_type": "code",
   "execution_count": null,
   "metadata": {},
   "outputs": [],
   "source": [
    "# We can also create a linearly spaced array using the linspace function\n",
    "x = np.linspace(0, 10, 5) # This will create an array of 5 elements between 0 and 10\n",
    "print(x.tolist()) # The tolist method converts the array to a list"
   ]
  },
  {
   "cell_type": "markdown",
   "metadata": {},
   "source": [
    "## Pandas\n",
    "Pandas is a popular library for data manipulation and analysis. It provides data structures like Series and DataFrame that make it easy to work with structured data. Pandas is built on top of Numpy, so it is a powerful tool for data analysis. I will show you some of the basics of Pandas in this notebook. It works with dataframes, which are essentially tables of data."
   ]
  },
  {
   "cell_type": "code",
   "execution_count": null,
   "metadata": {},
   "outputs": [],
   "source": [
    "# Here we will load the pandas library\n",
    "import pandas as pd\n",
    "\n",
    "# We will load in a dataset that comes with the pandas library\n",
    "data = pd.read_csv(\"https://raw.githubusercontent.com/mwaskom/seaborn-data/master/iris.csv\")\n",
    "\n",
    "# We can view the first few rows of the dataset using the head method\n",
    "data.head()"
   ]
  },
  {
   "cell_type": "code",
   "execution_count": null,
   "metadata": {},
   "outputs": [],
   "source": [
    "# We can access the columns of the dataset using the dot operator OR the bracket notation\n",
    "print(data.species.unique()) # This will return the unique values in the species column\n",
    "print(data[\"sepal_length\"].mean()) # This will return the mean of the sepal_length column"
   ]
  },
  {
   "cell_type": "code",
   "execution_count": null,
   "metadata": {},
   "outputs": [],
   "source": [
    "# We can also filter the dataset using conditions\n",
    "setosa = data[data.species == \"setosa\"] # This will return only the rows where the species is setosa\n",
    "\n",
    "# We can also group the data by a column and perform operations on the groups\n",
    "grouped = data.groupby(\"species\").mean() # This will group the data by species and return the mean of each column for each group\n",
    "grouped.head()"
   ]
  },
  {
   "cell_type": "code",
   "execution_count": null,
   "metadata": {},
   "outputs": [],
   "source": [
    "# Finally we can save the dataset to a file using the to_csv method\n",
    "setosa.to_csv(\"setosa.csv\", index=False) # This will save the setosa dataset to a file called setosa.csv without the index column"
   ]
  },
  {
   "cell_type": "markdown",
   "metadata": {},
   "source": [
    "## Matplotlib and Seaborn\n",
    "Matplotlib is a popular library for creating static, animated, and interactive visualizations in Python. It provides a wide variety of plots and charts, from simple line plots to complex heatmaps. Seaborn is a Python data visualization library based on Matplotlib. It provides a high-level interface for creating attractive and informative statistical graphics. I will show you some of the basics of Matplotlib and Seaborn in this notebook."
   ]
  },
  {
   "cell_type": "code",
   "execution_count": null,
   "metadata": {},
   "outputs": [],
   "source": [
    "import matplotlib.pyplot as plt # This is the standard way to import the matplotlib library\n",
    "\n",
    "# Here we will load in some data that from the seaborn library\n",
    "data = pd.read_csv(\"https://raw.githubusercontent.com/mwaskom/seaborn-data/master/iris.csv\")\n",
    "\n",
    "# We can create a scatter plot using the scatter method\n",
    "plt.scatter(data.sepal_length, data.sepal_width)\n",
    "plt.xlabel(\"Sepal Length\") # This will set the label for the x-axis\n",
    "plt.ylabel(\"Sepal Width\") # This will set the label for the y-axis\n",
    "plt.title(\"Sepal Length vs Sepal Width\") # This will set the title of the plot\n",
    "plt.show() # This will display the plot\n",
    "plt.close() # This will close the plot and free up memory and ensure that the next plot is not displayed on the same figure"
   ]
  },
  {
   "cell_type": "code",
   "execution_count": null,
   "metadata": {},
   "outputs": [],
   "source": [
    "# We can also create a histogram using the seaborn library which is built on top of matplotlib\n",
    "import seaborn as sns\n",
    "\n",
    "sns.histplot(data.sepal_length, kde=True) # This will create a histogram of the sepal_length column with a kernel density estimate\n",
    "plt.xlabel(\"Sepal Length\")\n",
    "plt.ylabel(\"Frequency\")\n",
    "plt.title(\"Distribution of Sepal Length\")\n",
    "plt.show()\n",
    "plt.close()"
   ]
  },
  {
   "cell_type": "code",
   "execution_count": null,
   "metadata": {},
   "outputs": [],
   "source": [
    "# Seaborn also provides a function to create a pairplot which will create a grid of scatter plots for each pair of columns\n",
    "sns.pairplot(data, hue=\"species\") # This will create a pairplot of the data with the species column as the hue\n",
    "plt.show()\n",
    "plt.close()"
   ]
  },
  {
   "cell_type": "code",
   "execution_count": null,
   "metadata": {},
   "outputs": [],
   "source": [
    "# Seaborn provides a function for creating your own pallettes for plots\n",
    "colors = sns.color_palette(\"husl\", 3) # This will create a list of 3 colors from the husl palette\n",
    "\n",
    "# We can use these colors in our plots\n",
    "sns.scatterplot(\n",
    "    data=data,\n",
    "    x=\"sepal_length\",\n",
    "    y=\"sepal_width\",\n",
    "    hue=\"species\",\n",
    "    palette=colors\n",
    ")\n",
    "plt.show()\n",
    "plt.close()"
   ]
  },
  {
   "cell_type": "markdown",
   "metadata": {},
   "source": [
    "It is worth checking out all the different plots you can make with Matplotlib and Seaborn. They are very powerful tools for data visualization. ***AND*** include pallettes for colorblind people."
   ]
  },
  {
   "cell_type": "markdown",
   "metadata": {},
   "source": [
    "## Other Libraries\n",
    "There are many other libraries that you can use in Python. Some of the most popular ones are:\n",
    "- **requests**: for making HTTP requests, and web scraping.\n",
    "- **xarray**: for working with multi-dimensional arrays such as NetCDFs.\n",
    "- **geopandas**: for working with geospatial data, built on the pandas library.\n",
    "- **scipy**: for scientific computing, statistics, and many other things."
   ]
  },
  {
   "cell_type": "markdown",
   "metadata": {},
   "source": [
    "# Putting it all together!\n",
    "Here we will build a simple function to scrape weather data from ECCC and visualize it. We will then export it to a csv file. This will be a simple example of how you can use all the tools we have learned in this notebook to do something useful."
   ]
  },
  {
   "cell_type": "markdown",
   "metadata": {},
   "source": [
    "## Web APIs and data scraping\n",
    "Web APIs (Application Programming Interfaces) allow you to interact with web servers and retrieve data. Many websites provide APIs that allow you to access their data in a structured way. You can use APIs to retrieve data from websites, interact with social media platforms, and much more.\n",
    "<br/>\n",
    "ECCC has its own API that allows you to access weather and hydrometric data. Documentation for the API can be found [here](https://api.weather.gc.ca/openapi?f=html).\n",
    "<br/>\n",
    "BUT it essentially works like this\n",
    "<br/>\n",
    "Base URL: https://api.weather.gc.ca/\\\n",
    "We then specify that we are accessing their collections of data.\\\n",
    "New URL: https://api.weather.gc.ca/collections\\\n",
    "We then specify that we are accessing their climatological data, assuming we know what station we want.\\\n",
    "New URL: https://api.weather.gc.ca/collections/climate-daily/items (we need to speficy the items if we don't want to get the metadata)\\\n",
    "Then we add the query parameters (i.e. the station we want, the date range, etc.)\\\n",
    "Final URL: https://api.weather.gc.ca/collections/climate-daily/items?STATION_NAME=\"insert station name here\"&f=\"format here (json, csv, etc.)\"&datetime=\"date range here\""
   ]
  },
  {
   "cell_type": "markdown",
   "metadata": {},
   "source": [
    "## Function building"
   ]
  },
  {
   "cell_type": "code",
   "execution_count": null,
   "metadata": {},
   "outputs": [],
   "source": [
    "# First we will import the required libraries we need\n",
    "import requests\n",
    "import io # This is an input/output module that allows us to work with streams of data (like files)\n",
    "import datetime as dt\n",
    "import pandas as pd\n",
    "\n",
    "# We will start by defining the function that will get the data from the API\n",
    "def retrieve_weather_data(stationName, startDate, endDate):\n",
    "    # First we want to make the start and end dates a datetime object to format them correctly for the API\n",
    "    start = dt.datetime.strptime(startDate, \"%Y-%m-%d\")\n",
    "    end = dt.datetime.strptime(endDate, \"%Y-%m-%d\")\n",
    "\n",
    "    # We will use now build the URL for the API\n",
    "    # The URL is made up of the base URL, the station ID, and the start and end dates\n",
    "    # We will also include the format of the data we want (JSON)\n",
    "    baseURL = \"https://api.weather.gc.ca/collections/climate-daily/items?\"\n",
    "    url = f\"{baseURL}f=csv&STATION_NAME={stationName}&LOCAL_YEAR={start.year}\" \n",
    "    \n",
    "    # We will now use the requests library to make a GET request to the API\n",
    "    response = requests.get(url)\n",
    "\n",
    "    # Which can be read in as a pandas DataFrame\n",
    "    data = pd.read_csv(io.StringIO(response.text))\n",
    "\n",
    "    # Now we will convert the LOCAL_DATE column to a datetime object\n",
    "    data[\"LOCAL_DATE\"] = pd.to_datetime(data[\"LOCAL_DATE\"])\n",
    "\n",
    "    return data\n",
    "\n",
    "# Now we will call the function to get the data\n",
    "banffData = retrieve_weather_data(\"BANFF\", \"2020-01-01\", \"2020-12-31\")\n",
    "banffData.head()"
   ]
  },
  {
   "cell_type": "markdown",
   "metadata": {},
   "source": [
    "## Data visualization"
   ]
  },
  {
   "cell_type": "code",
   "execution_count": null,
   "metadata": {},
   "outputs": [],
   "source": [
    "# We will now plot the average temperature for each day over the year\n",
    "import matplotlib.pyplot as plt\n",
    "import seaborn as sns\n",
    "import matplotlib.dates as mdates\n",
    "\n",
    "# We can use the lineplot function from seaborn to create a line plot\n",
    "sns.lineplot(data=banffData, x=\"LOCAL_DATE\", y=\"MEAN_TEMPERATURE\")\n",
    "\n",
    "# We can also use the matplotlib functions to customize the plot\n",
    "plt.xlabel(\"Date\")\n",
    "plt.ylabel(\"Mean Temperature (°C)\")\n",
    "\n",
    "# Here we will edit the x-axis to show the month and day\n",
    "plt.gca().xaxis.set_major_formatter(mdates.DateFormatter('%b')) # Formates thge x-axis to show the month and year\n",
    "\n",
    "\n",
    "plt.title(\"Mean Temperature in Banff in 2020\")\n",
    "\n",
    "plt.show()\n",
    "plt.close()"
   ]
  },
  {
   "cell_type": "markdown",
   "metadata": {},
   "source": [
    "## Exporting data"
   ]
  },
  {
   "cell_type": "code",
   "execution_count": null,
   "metadata": {},
   "outputs": [],
   "source": [
    "# Finally we will save the data to a file BUT only the columns we are interested in\n",
    "banffData[[\"STATION_NAME\", \"LOCAL_DATE\", \"MEAN_TEMPERATURE\"]].to_csv(\"banffWeather.csv\", index=False)"
   ]
  }
 ],
 "metadata": {
  "kernelspec": {
   "display_name": "Python 3",
   "language": "python",
   "name": "python3"
  },
  "language_info": {
   "codemirror_mode": {
    "name": "ipython",
    "version": 3
   },
   "file_extension": ".py",
   "mimetype": "text/x-python",
   "name": "python",
   "nbconvert_exporter": "python",
   "pygments_lexer": "ipython3",
   "version": "3.12.6"
  }
 },
 "nbformat": 4,
 "nbformat_minor": 2
}
